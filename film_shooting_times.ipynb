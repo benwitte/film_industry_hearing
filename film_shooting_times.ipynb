{
 "cells": [
  {
   "cell_type": "code",
   "execution_count": 1,
   "metadata": {
    "ExecuteTime": {
     "end_time": "2019-09-25T16:44:38.332616Z",
     "start_time": "2019-09-25T16:44:37.467440Z"
    }
   },
   "outputs": [],
   "source": [
    "import numpy as np\n",
    "import pandas as pd\n",
    "\n",
    "from datetime import datetime as dt\n",
    "\n",
    "import seaborn as sns\n",
    "\n",
    "import matplotlib.pyplot as plt\n",
    "import seaborn as sns\n",
    "# plt.style.use('ggplot')\n",
    "\n",
    "%load_ext autotime"
   ]
  },
  {
   "cell_type": "code",
   "execution_count": 85,
   "metadata": {
    "ExecuteTime": {
     "end_time": "2019-09-25T19:50:19.560487Z",
     "start_time": "2019-09-25T19:50:05.873494Z"
    }
   },
   "outputs": [
    {
     "name": "stdout",
     "output_type": "stream",
     "text": [
      "time: 13.7 s\n"
     ]
    }
   ],
   "source": [
    "data = pd.read_csv('./Film_Permits.csv', parse_dates=['StartDateTime', 'EndDateTime'])"
   ]
  },
  {
   "cell_type": "code",
   "execution_count": null,
   "metadata": {},
   "outputs": [],
   "source": []
  },
  {
   "cell_type": "code",
   "execution_count": 75,
   "metadata": {
    "ExecuteTime": {
     "end_time": "2019-09-25T19:13:14.257133Z",
     "start_time": "2019-09-25T19:13:14.229288Z"
    }
   },
   "outputs": [
    {
     "name": "stdout",
     "output_type": "stream",
     "text": [
      "2018-01-02 06:00:00 2018-12-31 00:01:00\n",
      "time: 23 ms\n"
     ]
    }
   ],
   "source": [
    "data = data[ (data['EndDateTime'] > dt(year = 2017, month = 12, day = 31, hour = 23, minute = 59, second = 59)) &\n",
    "             (data['StartDateTime'] < dt(year = 2019, month = 1, day = 1, hour = 0, minute = 0, second = 0)) ]\n",
    "print( data['StartDateTime'].min(), data['StartDateTime'].max() )"
   ]
  },
  {
   "cell_type": "code",
   "execution_count": 76,
   "metadata": {
    "ExecuteTime": {
     "end_time": "2019-09-25T19:13:25.379869Z",
     "start_time": "2019-09-25T19:13:25.329074Z"
    },
    "scrolled": true
   },
   "outputs": [
    {
     "data": {
      "text/html": [
       "<div>\n",
       "<style scoped>\n",
       "    .dataframe tbody tr th:only-of-type {\n",
       "        vertical-align: middle;\n",
       "    }\n",
       "\n",
       "    .dataframe tbody tr th {\n",
       "        vertical-align: top;\n",
       "    }\n",
       "\n",
       "    .dataframe thead th {\n",
       "        text-align: right;\n",
       "    }\n",
       "</style>\n",
       "<table border=\"1\" class=\"dataframe\">\n",
       "  <thead>\n",
       "    <tr style=\"text-align: right;\">\n",
       "      <th></th>\n",
       "      <th>EventID</th>\n",
       "      <th>EventType</th>\n",
       "      <th>StartDateTime</th>\n",
       "      <th>EndDateTime</th>\n",
       "      <th>EnteredOn</th>\n",
       "      <th>EventAgency</th>\n",
       "      <th>ParkingHeld</th>\n",
       "      <th>Borough</th>\n",
       "      <th>CommunityBoard(s)</th>\n",
       "      <th>PolicePrecinct(s)</th>\n",
       "      <th>Category</th>\n",
       "      <th>SubCategoryName</th>\n",
       "      <th>Country</th>\n",
       "      <th>ZipCode(s)</th>\n",
       "    </tr>\n",
       "  </thead>\n",
       "  <tbody>\n",
       "    <tr>\n",
       "      <th>3467</th>\n",
       "      <td>457711</td>\n",
       "      <td>Shooting Permit</td>\n",
       "      <td>2018-12-29 04:00:00</td>\n",
       "      <td>2018-12-29 10:00:00</td>\n",
       "      <td>12/28/2018 12:12:51 PM</td>\n",
       "      <td>Mayor's Office of Film, Theatre &amp; Broadcasting</td>\n",
       "      <td>WEST   48 STREET between 6 AVENUE and 7 AVENUE</td>\n",
       "      <td>Manhattan</td>\n",
       "      <td>5</td>\n",
       "      <td>18</td>\n",
       "      <td>Television</td>\n",
       "      <td>News</td>\n",
       "      <td>United States of America</td>\n",
       "      <td>10036, 10105</td>\n",
       "    </tr>\n",
       "    <tr>\n",
       "      <th>3483</th>\n",
       "      <td>457339</td>\n",
       "      <td>Shooting Permit</td>\n",
       "      <td>2018-12-24 04:00:00</td>\n",
       "      <td>2018-12-24 11:00:00</td>\n",
       "      <td>12/21/2018 04:17:47 PM</td>\n",
       "      <td>Mayor's Office of Film, Theatre &amp; Broadcasting</td>\n",
       "      <td>WEST   48 STREET between 6 AVENUE and 7 AVENUE</td>\n",
       "      <td>Manhattan</td>\n",
       "      <td>5</td>\n",
       "      <td>18</td>\n",
       "      <td>Television</td>\n",
       "      <td>News</td>\n",
       "      <td>United States of America</td>\n",
       "      <td>10036, 10105</td>\n",
       "    </tr>\n",
       "    <tr>\n",
       "      <th>3485</th>\n",
       "      <td>457330</td>\n",
       "      <td>Shooting Permit</td>\n",
       "      <td>2018-12-28 06:00:00</td>\n",
       "      <td>2018-12-28 21:00:00</td>\n",
       "      <td>12/21/2018 03:42:49 PM</td>\n",
       "      <td>Mayor's Office of Film, Theatre &amp; Broadcasting</td>\n",
       "      <td>3 AVENUE between BRUCKNER BOULEVARD and EAST  ...</td>\n",
       "      <td>Bronx</td>\n",
       "      <td>1</td>\n",
       "      <td>40</td>\n",
       "      <td>WEB</td>\n",
       "      <td>Not Applicable</td>\n",
       "      <td>United States of America</td>\n",
       "      <td>10451, 10454</td>\n",
       "    </tr>\n",
       "    <tr>\n",
       "      <th>3486</th>\n",
       "      <td>457331</td>\n",
       "      <td>Shooting Permit</td>\n",
       "      <td>2018-12-29 06:00:00</td>\n",
       "      <td>2018-12-29 18:00:00</td>\n",
       "      <td>12/21/2018 03:42:49 PM</td>\n",
       "      <td>Mayor's Office of Film, Theatre &amp; Broadcasting</td>\n",
       "      <td>HOME STREET between WESTCHESTER AVENUE and LON...</td>\n",
       "      <td>Bronx</td>\n",
       "      <td>3</td>\n",
       "      <td>42</td>\n",
       "      <td>WEB</td>\n",
       "      <td>Not Applicable</td>\n",
       "      <td>United States of America</td>\n",
       "      <td>10459</td>\n",
       "    </tr>\n",
       "    <tr>\n",
       "      <th>3491</th>\n",
       "      <td>457299</td>\n",
       "      <td>Shooting Permit</td>\n",
       "      <td>2018-12-27 00:01:00</td>\n",
       "      <td>2019-01-12 23:59:00</td>\n",
       "      <td>12/21/2018 12:48:35 PM</td>\n",
       "      <td>Mayor's Office of Film, Theatre &amp; Broadcasting</td>\n",
       "      <td>AMSTERDAM AVENUE between WEST   62 STREET and ...</td>\n",
       "      <td>Manhattan</td>\n",
       "      <td>7</td>\n",
       "      <td>20</td>\n",
       "      <td>Television</td>\n",
       "      <td>Not Applicable</td>\n",
       "      <td>United States of America</td>\n",
       "      <td>10023</td>\n",
       "    </tr>\n",
       "  </tbody>\n",
       "</table>\n",
       "</div>"
      ],
      "text/plain": [
       "      EventID        EventType       StartDateTime         EndDateTime  \\\n",
       "3467   457711  Shooting Permit 2018-12-29 04:00:00 2018-12-29 10:00:00   \n",
       "3483   457339  Shooting Permit 2018-12-24 04:00:00 2018-12-24 11:00:00   \n",
       "3485   457330  Shooting Permit 2018-12-28 06:00:00 2018-12-28 21:00:00   \n",
       "3486   457331  Shooting Permit 2018-12-29 06:00:00 2018-12-29 18:00:00   \n",
       "3491   457299  Shooting Permit 2018-12-27 00:01:00 2019-01-12 23:59:00   \n",
       "\n",
       "                   EnteredOn                                     EventAgency  \\\n",
       "3467  12/28/2018 12:12:51 PM  Mayor's Office of Film, Theatre & Broadcasting   \n",
       "3483  12/21/2018 04:17:47 PM  Mayor's Office of Film, Theatre & Broadcasting   \n",
       "3485  12/21/2018 03:42:49 PM  Mayor's Office of Film, Theatre & Broadcasting   \n",
       "3486  12/21/2018 03:42:49 PM  Mayor's Office of Film, Theatre & Broadcasting   \n",
       "3491  12/21/2018 12:48:35 PM  Mayor's Office of Film, Theatre & Broadcasting   \n",
       "\n",
       "                                            ParkingHeld    Borough  \\\n",
       "3467     WEST   48 STREET between 6 AVENUE and 7 AVENUE  Manhattan   \n",
       "3483     WEST   48 STREET between 6 AVENUE and 7 AVENUE  Manhattan   \n",
       "3485  3 AVENUE between BRUCKNER BOULEVARD and EAST  ...      Bronx   \n",
       "3486  HOME STREET between WESTCHESTER AVENUE and LON...      Bronx   \n",
       "3491  AMSTERDAM AVENUE between WEST   62 STREET and ...  Manhattan   \n",
       "\n",
       "     CommunityBoard(s) PolicePrecinct(s)    Category SubCategoryName  \\\n",
       "3467                 5                18  Television            News   \n",
       "3483                 5                18  Television            News   \n",
       "3485                 1                40         WEB  Not Applicable   \n",
       "3486                 3                42         WEB  Not Applicable   \n",
       "3491                 7                20  Television  Not Applicable   \n",
       "\n",
       "                       Country    ZipCode(s)  \n",
       "3467  United States of America  10036, 10105  \n",
       "3483  United States of America  10036, 10105  \n",
       "3485  United States of America  10451, 10454  \n",
       "3486  United States of America         10459  \n",
       "3491  United States of America         10023  "
      ]
     },
     "execution_count": 76,
     "metadata": {},
     "output_type": "execute_result"
    },
    {
     "name": "stdout",
     "output_type": "stream",
     "text": [
      "time: 46.2 ms\n"
     ]
    }
   ],
   "source": [
    "data.head()"
   ]
  },
  {
   "cell_type": "code",
   "execution_count": 86,
   "metadata": {
    "ExecuteTime": {
     "end_time": "2019-09-25T19:50:44.959993Z",
     "start_time": "2019-09-25T19:50:44.931916Z"
    }
   },
   "outputs": [
    {
     "name": "stdout",
     "output_type": "stream",
     "text": [
      "time: 17.8 ms\n"
     ]
    }
   ],
   "source": [
    "# Make histogram by hour of day.\n",
    "# Break each time range into hour chunks\n",
    "\n",
    "def range_to_list(a, b):\n",
    "    return pd.date_range(a, b, freq = 'H')[:-1]\n",
    "    \n",
    "# range_to_list(data.iloc[10]['StartDateTime'], data.iloc[10]['EndDateTime'])[:-1]"
   ]
  },
  {
   "cell_type": "code",
   "execution_count": 87,
   "metadata": {
    "ExecuteTime": {
     "end_time": "2019-09-25T19:50:58.465973Z",
     "start_time": "2019-09-25T19:50:44.978204Z"
    }
   },
   "outputs": [
    {
     "name": "stdout",
     "output_type": "stream",
     "text": [
      "time: 13.5 s\n"
     ]
    }
   ],
   "source": [
    "data['StartEnd'] = [[i, j] for i, j in zip( data['StartDateTime'], data['EndDateTime'])]\n",
    "data['TimeList'] = data['StartEnd'].apply(lambda x: range_to_list(x[0], x[1]))"
   ]
  },
  {
   "cell_type": "code",
   "execution_count": 88,
   "metadata": {
    "ExecuteTime": {
     "end_time": "2019-09-25T19:51:01.146230Z",
     "start_time": "2019-09-25T19:50:58.468901Z"
    }
   },
   "outputs": [
    {
     "name": "stdout",
     "output_type": "stream",
     "text": [
      "time: 2.67 s\n"
     ]
    }
   ],
   "source": [
    "time_list = [j for i in data['TimeList'] for j in i]\n",
    "time_list_hour = [i.hour for i in time_list]\n",
    "time_list_day = [i.day for i in time_list]\n",
    "time_list_month = [i.month for i in time_list]\n",
    "time_list_year = [i.year for i in time_list]"
   ]
  },
  {
   "cell_type": "code",
   "execution_count": 80,
   "metadata": {
    "ExecuteTime": {
     "end_time": "2019-09-25T19:13:36.753785Z",
     "start_time": "2019-09-25T19:13:36.447056Z"
    },
    "scrolled": true
   },
   "outputs": [
    {
     "name": "stderr",
     "output_type": "stream",
     "text": [
      "/usr/local/lib/python3.6/dist-packages/matplotlib/axes/_axes.py:6462: UserWarning: The 'normed' kwarg is deprecated, and has been replaced by the 'density' kwarg.\n",
      "  warnings.warn(\"The 'normed' kwarg is deprecated, and has been \"\n"
     ]
    },
    {
     "data": {
      "image/png": "[encoded data removed]",
      "text/plain": [
       "<Figure size 432x288 with 1 Axes>"
      ]
     },
     "metadata": {},
     "output_type": "display_data"
    },
    {
     "name": "stdout",
     "output_type": "stream",
     "text": [
      "time: 303 ms\n"
     ]
    }
   ],
   "source": [
    "# plt.hist(time_list_hour)\n",
    "ax = sns.distplot(time_list_hour, bins = 24, kde = False)"
   ]
  },
  {
   "cell_type": "code",
   "execution_count": 82,
   "metadata": {
    "ExecuteTime": {
     "end_time": "2019-09-25T19:15:25.032444Z",
     "start_time": "2019-09-25T19:15:24.682717Z"
    },
    "scrolled": false
   },
   "outputs": [
    {
     "name": "stderr",
     "output_type": "stream",
     "text": [
      "/usr/local/lib/python3.6/dist-packages/matplotlib/axes/_axes.py:6462: UserWarning: The 'normed' kwarg is deprecated, and has been replaced by the 'density' kwarg.\n",
      "  warnings.warn(\"The 'normed' kwarg is deprecated, and has been \"\n"
     ]
    },
    {
     "data": {
      "image/png": "[encoded data removed]",
      "text/plain": [
       "<Figure size 432x288 with 1 Axes>"
      ]
     },
     "metadata": {},
     "output_type": "display_data"
    },
    {
     "name": "stdout",
     "output_type": "stream",
     "text": [
      "time: 343 ms\n"
     ]
    }
   ],
   "source": [
    "ax = sns.distplot(time_list_day, bins=31, kde = False)"
   ]
  },
  {
   "cell_type": "code",
   "execution_count": 83,
   "metadata": {
    "ExecuteTime": {
     "end_time": "2019-09-25T19:15:28.373757Z",
     "start_time": "2019-09-25T19:15:28.078892Z"
    }
   },
   "outputs": [
    {
     "name": "stderr",
     "output_type": "stream",
     "text": [
      "/usr/local/lib/python3.6/dist-packages/matplotlib/axes/_axes.py:6462: UserWarning: The 'normed' kwarg is deprecated, and has been replaced by the 'density' kwarg.\n",
      "  warnings.warn(\"The 'normed' kwarg is deprecated, and has been \"\n"
     ]
    },
    {
     "data": {
      "image/png": "[encoded data removed]",
      "text/plain": [
       "<Figure size 432x288 with 1 Axes>"
      ]
     },
     "metadata": {},
     "output_type": "display_data"
    },
    {
     "name": "stdout",
     "output_type": "stream",
     "text": [
      "time: 291 ms\n"
     ]
    }
   ],
   "source": [
    "ax = sns.distplot(time_list_month, bins = 12, kde = False)"
   ]
  },
  {
   "cell_type": "code",
   "execution_count": 89,
   "metadata": {
    "ExecuteTime": {
     "end_time": "2019-09-25T19:51:21.017687Z",
     "start_time": "2019-09-25T19:51:20.544360Z"
    }
   },
   "outputs": [
    {
     "name": "stderr",
     "output_type": "stream",
     "text": [
      "/usr/local/lib/python3.6/dist-packages/matplotlib/axes/_axes.py:6462: UserWarning: The 'normed' kwarg is deprecated, and has been replaced by the 'density' kwarg.\n",
      "  warnings.warn(\"The 'normed' kwarg is deprecated, and has been \"\n"
     ]
    },
    {
     "data": {
      "image/png": "[encoded data removed]",
      "text/plain": [
       "<Figure size 432x288 with 1 Axes>"
      ]
     },
     "metadata": {},
     "output_type": "display_data"
    },
    {
     "name": "stdout",
     "output_type": "stream",
     "text": [
      "time: 469 ms\n"
     ]
    }
   ],
   "source": [
    "ax = sns.distplot(time_list_year, bins = 7, kde = False)"
   ]
  },
  {
   "cell_type": "code",
   "execution_count": 84,
   "metadata": {
    "ExecuteTime": {
     "end_time": "2019-09-25T19:15:33.020983Z",
     "start_time": "2019-09-25T19:15:33.010716Z"
    }
   },
   "outputs": [
    {
     "name": "stdout",
     "output_type": "stream",
     "text": [
      "[12265.0, 11905.0, 14475.0, 11542.0, 14301.0, 12535.0, 12343.0, 16508.0, 14767.0, 21982.0, 19564.0, 12184.0] 12\n",
      "time: 2.69 ms\n"
     ]
    }
   ],
   "source": [
    "x = [h.get_height() for h in ax.patches]\n",
    "\n",
    "print(x, len(x) )"
   ]
  },
  {
   "cell_type": "code",
   "execution_count": 96,
   "metadata": {
    "ExecuteTime": {
     "end_time": "2019-09-25T19:57:18.664322Z",
     "start_time": "2019-09-25T19:57:18.624876Z"
    }
   },
   "outputs": [
    {
     "data": {
      "text/plain": [
       "2018    9010\n",
       "2015    8958\n",
       "2013    8094\n",
       "2014    7962\n",
       "2012    6910\n",
       "2019    3560\n",
       "Name: StartDateTime, dtype: int64"
      ]
     },
     "execution_count": 96,
     "metadata": {},
     "output_type": "execute_result"
    },
    {
     "name": "stdout",
     "output_type": "stream",
     "text": [
      "time: 34.2 ms\n"
     ]
    }
   ],
   "source": [
    "#num permits by year\n",
    "data['StartDateTime'].dt.year.value_counts()"
   ]
  },
  {
   "cell_type": "code",
   "execution_count": null,
   "metadata": {},
   "outputs": [],
   "source": []
  }
 ],
 "metadata": {
  "hide_input": false,
  "kernelspec": {
   "display_name": "Python 3",
   "language": "python",
   "name": "python3"
  },
  "language_info": {
   "codemirror_mode": {
    "name": "ipython",
    "version": 3
   },
   "file_extension": ".py",
   "mimetype": "text/x-python",
   "name": "python",
   "nbconvert_exporter": "python",
   "pygments_lexer": "ipython3",
   "version": "3.6.7"
  }
 },
 "nbformat": 4,
 "nbformat_minor": 2
}
